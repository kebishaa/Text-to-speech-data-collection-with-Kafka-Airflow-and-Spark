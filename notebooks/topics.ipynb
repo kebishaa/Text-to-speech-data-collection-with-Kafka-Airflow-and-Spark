{
 "cells": [
  {
   "cell_type": "code",
   "execution_count": 13,
   "id": "fe10c999-2a04-48f5-8501-9767f3b049da",
   "metadata": {},
   "outputs": [],
   "source": [
    "import kafka\n",
    "from kafka.admin import KafkaAdminClient,NewTopic"
   ]
  },
  {
   "cell_type": "code",
   "execution_count": 14,
   "id": "744b92cc-3bb6-459f-a3b0-1c3ea1138966",
   "metadata": {},
   "outputs": [],
   "source": [
    "admin_client = KafkaAdminClient(bootstrap_servers=[\"b-1.batch6w7.6qsgnf.c19.kafka.us-east-1.amazonaws.com:9092\",\n",
    "                                                   \"b-2.batch6w7.6qsgnf.c19.kafka.us-east-1.amazonaws.com:9092\"],\n",
    "                                                    client_id='d_id')"
   ]
  },
  {
   "cell_type": "code",
   "execution_count": 18,
   "id": "d91da53e-edc8-463f-8f6d-6a53513c1312",
   "metadata": {},
   "outputs": [
    {
     "data": {
      "text/plain": [
       "CreateTopicsResponse_v3(throttle_time_ms=0, topic_errors=[(topic='g4-local', error_code=0, error_message=None), (topic='g4-sport', error_code=0, error_message=None), (topic='g4-politics', error_code=0, error_message=None), (topic='g4-international', error_code=0, error_message=None), (topic='g4-business', error_code=0, error_message=None), (topic='g4-entertainment', error_code=0, error_message=None)])"
      ]
     },
     "execution_count": 18,
     "metadata": {},
     "output_type": "execute_result"
    }
   ],
   "source": [
    "topic_list = []\n",
    "topic_list.append(NewTopic(name=\"g4-local\", num_partitions=1, replication_factor=2))\n",
    "topic_list.append(NewTopic(name=\"g4-sport\", num_partitions=1, replication_factor=2))\n",
    "topic_list.append(NewTopic(name=\"g4-politics\", num_partitions=1, replication_factor=2))\n",
    "topic_list.append(NewTopic(name=\"g4-international\", num_partitions=1, replication_factor=2))\n",
    "topic_list.append(NewTopic(name=\"g4-business\", num_partitions=1, replication_factor=2))\n",
    "topic_list.append(NewTopic(name=\"g4-entertainment\", num_partitions=1, replication_factor=2))\n",
    "\n",
    "\n",
    "admin_client.create_topics(new_topics=topic_list, validate_only=False)"
   ]
  },
  {
   "cell_type": "code",
   "execution_count": 19,
   "id": "e20da704-886b-408d-8ebe-09d46a69537a",
   "metadata": {},
   "outputs": [
    {
     "data": {
      "text/plain": [
       "['test',\n",
       " 'g3-politics',\n",
       " 'g2-business',\n",
       " 'g4-entertainment',\n",
       " 'g2-sport',\n",
       " 'g1-test-topic',\n",
       " 'g4-politics',\n",
       " 'g4_tst_topic',\n",
       " 'g3-business',\n",
       " 'test_topic',\n",
       " 'g4-sport',\n",
       " 'g2-national_news',\n",
       " 'g2-international_news',\n",
       " 'test-topic',\n",
       " 'test-topic3',\n",
       " 'g2-entertainment',\n",
       " 'g3-international',\n",
       " 'g3-local',\n",
       " '__consumer_offsets',\n",
       " 'g4-amharic',\n",
       " 'g4_test_topic',\n",
       " 'test-topic1',\n",
       " 'test-topic5',\n",
       " '__amazon_msk_canary',\n",
       " 'g4-business',\n",
       " 'g4-international',\n",
       " 'demo-instance',\n",
       " 'g2-politics',\n",
       " 'g3-sport',\n",
       " 'g3-entertainment',\n",
       " 'g1-first-topic',\n",
       " 'g4-local']"
      ]
     },
     "execution_count": 19,
     "metadata": {},
     "output_type": "execute_result"
    }
   ],
   "source": [
    "admin_client.list_topics()"
   ]
  },
  {
   "cell_type": "code",
   "execution_count": null,
   "id": "2b39cdb2-2911-4581-90af-d1199cd8eb37",
   "metadata": {},
   "outputs": [],
   "source": []
  },
  {
   "cell_type": "code",
   "execution_count": null,
   "id": "3d96764f-324c-4e99-a82d-9ae611e17d54",
   "metadata": {},
   "outputs": [],
   "source": []
  },
  {
   "cell_type": "code",
   "execution_count": null,
   "id": "f679679d-0ad4-4b6f-aa3c-7f8f26ee55b7",
   "metadata": {},
   "outputs": [],
   "source": []
  }
 ],
 "metadata": {
  "kernelspec": {
   "display_name": "Python 3.8.10 64-bit",
   "language": "python",
   "name": "python3"
  },
  "language_info": {
   "codemirror_mode": {
    "name": "ipython",
    "version": 3
   },
   "file_extension": ".py",
   "mimetype": "text/x-python",
   "name": "python",
   "nbconvert_exporter": "python",
   "pygments_lexer": "ipython3",
   "version": "3.8.10"
  },
  "vscode": {
   "interpreter": {
    "hash": "916dbcbb3f70747c44a77c7bcd40155683ae19c65e1c03b4aa3499c5328201f1"
   }
  }
 },
 "nbformat": 4,
 "nbformat_minor": 5
}
